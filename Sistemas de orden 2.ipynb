{
 "cells": [
  {
   "cell_type": "markdown",
   "metadata": {},
   "source": [
    "# Sistemas de Segundo Orden.\n",
    "\n",
    "## Caracterización de la respuesta temporal al escalón de un sistema subamortiguado "
   ]
  },
  {
   "cell_type": "markdown",
   "metadata": {},
   "source": [
    "La importancia de definir parámetros temporales de un sistema subamortiguado al escalón, se debe a que muchas plantas o procesos físicos, sus dinámicas, son aproximadas a esta función de transferencia. Por lo que este modelado simplificado permite conocer características de la estabilidad y de la naturaleza de la respuestas del régimen transitorio. Adicionalmente, no sólo permite analizar o predecir el comportamiento temporal, sino que, a veces, los requisitos de diseño de los reguladores de control, emplean definiciones dadas en este epígrafe, como por ejemplo el valor de sobreoscilación. Por todas estas razones, se trata de caracterizar mediante medidas de tiempo y de valor de pico, la salida de un sistema subamortiguado ante una excitación de escalón unitario. "
   ]
  },
  {
   "cell_type": "code",
   "execution_count": 78,
   "metadata": {
    "collapsed": true
   },
   "outputs": [],
   "source": [
    "from sympy import *                                 # Se plantea la acuacion diferencial\n",
    "from IPython.display import display, Math, Latex\n",
    "init_printing(use_latex=True)\n",
    "X, Y,S, s, wd, wn, z, t,tt, k = symbols(\"X, Y, S, \\\\sigma, \\\\omega_d, \\\\omega_n, \\\\zeta, t, \\\\theta, k\")\n",
    "s+wd-wn*z\n",
    "e=exp(1)"
   ]
  },
  {
   "cell_type": "markdown",
   "metadata": {},
   "source": [
    "Entender el sistema de segundo orden es muy importante para el diseño de controladores ya que\n",
    "habitualmente la mayor parte de los sistemas pueden ser aproximados a un sistema de orden dos.\n",
    "La función de transferencia de un sistema de segundo orden es: \n",
    "\n",
    "$$\\frac{Y(s)}{X(s)}= \\frac{\\omega_n^2}{s^2 + 2\\zeta \\omega_ns + \\omega_n^2}$$\n",
    "Donde el término $\\omega_n$ se denomina frecuencia natural y $\\zeta$ es el coeficiente de amortiguamiento. Si\n",
    "se consideran polos complejos conjugados (0 < $\\zeta$ < 1), la respuesta en el tiempo para entrada\n",
    "escalón es: \n",
    "$$ y(t)=1-\\frac{1}{\\sqrt{1-\\zeta^2}}e^{-\\zeta\\omega_nt}sin\\left [\\omega_n\\left (\\sqrt{1-\\zeta^2}\\right )t+\\theta\\right ]$$\n",
    "\n",
    "Donde el término $\\zeta \\omega_n $ es la parte real de los polos complejos y $\\omega_n \\sqrt{1 − \\zeta } $ es la parte imaginaria.(El término $\\omega_n \\sqrt{1 − \\zeta} $ también se denomina frecuencia natural amortiguada o $\\omega_d$). Existen dos factores que determinan la forma y la velocidad de respuesta del sistema de segundo orden. Estos factores son la frecuencia natural $\\omega_n $ y el coeficiente de amortiguamiento $\\zeta$.\n",
    "<img src=\"img/f2.png\"/>"
   ]
  },
  {
   "cell_type": "markdown",
   "metadata": {},
   "source": [
    "## 1. Calculo de las variables"
   ]
  },
  {
   "cell_type": "code",
   "execution_count": 2,
   "metadata": {
    "collapsed": false
   },
   "outputs": [],
   "source": [
    "import pandas as pd\n",
    "import numpy as np\n",
    "import matplotlib.pyplot as plt\n",
    "%matplotlib inline"
   ]
  },
  {
   "cell_type": "code",
   "execution_count": 3,
   "metadata": {
    "collapsed": false
   },
   "outputs": [
    {
     "data": {
      "image/png": "[encoded data removed]",
      "text/latex": [
       "$$\\left ( 499, \\quad 2\\right )$$"
      ],
      "text/plain": [
       "(499, 2)"
      ]
     },
     "execution_count": 3,
     "metadata": {},
     "output_type": "execute_result"
    }
   ],
   "source": [
    "d = pd.read_csv(\"data/sistemaorden2-1.txt\", decimal=\",\", sep=';')\n",
    "d.columns=[u'Tiempo',u'Amplitud']\n",
    "d.shape"
   ]
  },
  {
   "cell_type": "code",
   "execution_count": 4,
   "metadata": {
    "collapsed": false
   },
   "outputs": [],
   "source": [
    "#d['Dates'] = d['Dates'].str.replace(',', '.')"
   ]
  },
  {
   "cell_type": "code",
   "execution_count": 5,
   "metadata": {
    "collapsed": false
   },
   "outputs": [],
   "source": [
    "#[float(i)  for i in d['Dates'].as_matrix()]\n"
   ]
  },
  {
   "cell_type": "code",
   "execution_count": 6,
   "metadata": {
    "collapsed": false
   },
   "outputs": [
    {
     "data": {
      "text/plain": [
       "[<matplotlib.lines.Line2D at 0x7f0a2cbb99d0>]"
      ]
     },
     "execution_count": 6,
     "metadata": {},
     "output_type": "execute_result"
    },
    {
     "data": {
      "image/png": "[encoded data removed]",
      "text/plain": [
       "<matplotlib.figure.Figure at 0x7f0a5c0bfb10>"
      ]
     },
     "metadata": {},
     "output_type": "display_data"
    }
   ],
   "source": [
    "plt.plot(d[\"Tiempo\"], d[\"Amplitud\"])"
   ]
  },
  {
   "cell_type": "markdown",
   "metadata": {},
   "source": [
    "### 1.1 El tiempo pico se halla de la siguiete forma\n",
    "Es el tiempo requerido para que la respuesta alcance el primer pico de sobreimpulso. "
   ]
  },
  {
   "cell_type": "code",
   "execution_count": 7,
   "metadata": {
    "collapsed": false
   },
   "outputs": [],
   "source": [
    "VM=d.Amplitud.max()\n",
    "m=d.Amplitud.mean()"
   ]
  },
  {
   "cell_type": "code",
   "execution_count": 8,
   "metadata": {
    "collapsed": false
   },
   "outputs": [
    {
     "name": "stdout",
     "output_type": "stream",
     "text": [
      "El tiempo pico del sistema es tp = 4.4 [s]\n"
     ]
    }
   ],
   "source": [
    "i=0\n",
    "for c in d.Amplitud:\n",
    "    i+=1\n",
    "    if c==VM:\n",
    "        cont=i                #contador\n",
    "        tpn=d.Tiempo[i]\n",
    "print 'El tiempo pico del sistema es tp =', tpn, '[s]'"
   ]
  },
  {
   "cell_type": "markdown",
   "metadata": {},
   "source": [
    "### 1.2 El tiempo de crecimiento se calcula de la grafica como se muestra a continuación\n",
    "\n",
    "Es el tiempo requerido para que la respuesta aumente de 0 a 100% para sistemas subamortiguados, del 5 al 95% o del 10 al 90% para sistemas críticamente amortiguados o sobreamortiguados. "
   ]
  },
  {
   "cell_type": "code",
   "execution_count": 9,
   "metadata": {
    "collapsed": false
   },
   "outputs": [],
   "source": [
    "d1=d[0:cont]      # se Crea una lista con los primeros datos hasta el valor maximo que se encontro anteriormente"
   ]
  },
  {
   "cell_type": "code",
   "execution_count": 10,
   "metadata": {
    "collapsed": false
   },
   "outputs": [
    {
     "name": "stdout",
     "output_type": "stream",
     "text": [
      "El tiempo de crecimiento del sistema es tr = 2.5 [s]\n"
     ]
    }
   ],
   "source": [
    "j=0\n",
    "for c in d1.Amplitud:\n",
    "    if c<= d.Amplitud[480]:\n",
    "        j +=1\n",
    "trn=d.Tiempo[j]\n",
    "print 'El tiempo de crecimiento del sistema es tr =', trn, '[s]'"
   ]
  },
  {
   "cell_type": "markdown",
   "metadata": {},
   "source": [
    "### 1.3 El cálculo del valor pico máximo se muestra a continuación.\n",
    "\n",
    "Es el valor pico máximo de la curva de respuesta medido desde el valor de establecimeinto o valor deseado. El sobreimpulso máximo se obtiene de la respuesta evaluada en el tiempo pico, se da en valores porcentuales."
   ]
  },
  {
   "cell_type": "code",
   "execution_count": 11,
   "metadata": {
    "collapsed": false
   },
   "outputs": [
    {
     "name": "stdout",
     "output_type": "stream",
     "text": [
      "El valor máximo pico es de Mp = 47.9662931871 %\n"
     ]
    }
   ],
   "source": [
    "Mpn= (VM-d.Amplitud[480])/d.Amplitud[480]\n",
    "print 'El valor máximo pico es de Mp =',Mpn*100,'%'"
   ]
  },
  {
   "cell_type": "markdown",
   "metadata": {},
   "source": [
    "### 1.4 Tiempo de Establecimiento\n",
    "\n",
    "Es el tiempo mínimo donde la curva de respuesta alcanza y se mantiene dentro de un rango de error preestablecido, generalmente es del  2% o del 5%, el rango más común es el del 2%. Para sistemas de primer y segundo orden, la respuesta se mantiene dentro del 2% después de 4 constantes de tiempo:"
   ]
  },
  {
   "cell_type": "markdown",
   "metadata": {},
   "source": [
    "#### Procedimiento para invertir los datos y hacer un recorrido desde el último dato hacia atras"
   ]
  },
  {
   "cell_type": "code",
   "execution_count": 12,
   "metadata": {
    "collapsed": false
   },
   "outputs": [],
   "source": [
    "x=int(0)\n",
    "while ((len(d)-1-x)>x):\n",
    "    auxT=d.Tiempo[x]\n",
    "    auxA=d.Amplitud[x]\n",
    "    d.Tiempo[x]=d.Tiempo[len(d)-1-x]\n",
    "    d.Amplitud[x]=d.Amplitud[len(d)-1-x]\n",
    "    d.Tiempo[len(d)-1-x]=auxT\n",
    "    d.Amplitud[len(d)-1-x]=auxA\n",
    "    x +=1"
   ]
  },
  {
   "cell_type": "code",
   "execution_count": 13,
   "metadata": {
    "collapsed": false
   },
   "outputs": [
    {
     "name": "stdout",
     "output_type": "stream",
     "text": [
      "El tiempo de asentamiento del sistema es ts = 18.0 [s]\n"
     ]
    }
   ],
   "source": [
    "k=0\n",
    "vts=0.95*d.Amplitud[20]\n",
    "for c in d.Amplitud:\n",
    "    if c > vts:\n",
    "        k +=1\n",
    "    else:break\n",
    "tsn=d.Tiempo[k]\n",
    "print 'El tiempo de asentamiento del sistema es ts =', tsn, '[s]'"
   ]
  },
  {
   "cell_type": "markdown",
   "metadata": {},
   "source": [
    "### 2 Con los datos obtenidos anteriormente y teniendo en cuenta la teoria de los sistemas de segundo orden, se tienen las siguientes relaciones:"
   ]
  },
  {
   "cell_type": "code",
   "execution_count": 14,
   "metadata": {
    "collapsed": false
   },
   "outputs": [
    {
     "name": "stdout",
     "output_type": "stream",
     "text": [
      "Tiempo pico\n"
     ]
    },
    {
     "data": {
      "text/latex": [
       "$$tp=\\frac{\\pi}{\\omega_d}$$"
      ],
      "text/plain": [
       "<IPython.core.display.Math object>"
      ]
     },
     "metadata": {},
     "output_type": "display_data"
    }
   ],
   "source": [
    "print ('Tiempo pico')\n",
    "display(Math(r'tp=\\frac{\\pi}{\\omega_d}'))"
   ]
  },
  {
   "cell_type": "code",
   "execution_count": 15,
   "metadata": {
    "collapsed": false
   },
   "outputs": [
    {
     "name": "stdout",
     "output_type": "stream",
     "text": [
      "Valor pico máximo\n"
     ]
    },
    {
     "data": {
      "text/latex": [
       "$$Mp=e^{-\\frac{\\zeta \\pi}{\\sqrt{1-\\zeta^2}}}$$"
      ],
      "text/plain": [
       "<IPython.core.display.Math object>"
      ]
     },
     "metadata": {},
     "output_type": "display_data"
    }
   ],
   "source": [
    "print ('Valor pico máximo')\n",
    "display(Math(r'Mp=e^{-\\frac{\\zeta \\pi}{\\sqrt{1-\\zeta^2}}}'))"
   ]
  },
  {
   "cell_type": "code",
   "execution_count": 16,
   "metadata": {
    "collapsed": false
   },
   "outputs": [
    {
     "name": "stdout",
     "output_type": "stream",
     "text": [
      "Tiempo de establecimiento\n"
     ]
    },
    {
     "data": {
      "text/latex": [
       "$$t_s=4T=\\frac{4}{\\zeta \\omega_n}=\\frac{4}{\\sigma}$$"
      ],
      "text/plain": [
       "<IPython.core.display.Math object>"
      ]
     },
     "metadata": {},
     "output_type": "display_data"
    }
   ],
   "source": [
    "print ('Tiempo de establecimiento')\n",
    "display(Math(r't_s=4T=\\frac{4}{\\zeta \\omega_n}=\\frac{4}{\\sigma}'))"
   ]
  },
  {
   "cell_type": "code",
   "execution_count": 17,
   "metadata": {
    "collapsed": false
   },
   "outputs": [
    {
     "data": {
      "image/png": "[encoded data removed]",
      "text/latex": [
       "$$-18.0 + \\frac{4}{\\sigma}$$"
      ],
      "text/plain": [
       "          4   \n",
       "-18.0 + ──────\n",
       "        \\sigma"
      ]
     },
     "execution_count": 17,
     "metadata": {},
     "output_type": "execute_result"
    }
   ],
   "source": [
    "exprts = 4/s-tsn\n",
    "exprts"
   ]
  },
  {
   "cell_type": "code",
   "execution_count": 18,
   "metadata": {
    "collapsed": false
   },
   "outputs": [],
   "source": [
    "sols=solve(exprts,s)\n",
    "solsn=sols[0]                            #Debido a que el resultado esta en formato lista, extrae el valor."
   ]
  },
  {
   "cell_type": "code",
   "execution_count": 19,
   "metadata": {
    "collapsed": false
   },
   "outputs": [
    {
     "data": {
      "image/png": "[encoded data removed]",
      "text/latex": [
       "$$-0.479662931871215 + e^{- \\frac{\\pi \\sigma}{\\omega_d}}$$"
      ],
      "text/plain": [
       "                      -π⋅\\sigma \n",
       "                      ──────────\n",
       "                       \\omega_d \n",
       "-0.479662931871215 + ℯ          "
      ]
     },
     "execution_count": 19,
     "metadata": {},
     "output_type": "execute_result"
    }
   ],
   "source": [
    "exprMp=e**(-(s/wd)*pi)-Mpn\n",
    "exprMp"
   ]
  },
  {
   "cell_type": "code",
   "execution_count": 20,
   "metadata": {
    "collapsed": false
   },
   "outputs": [
    {
     "data": {
      "image/png": "[encoded data removed]",
      "text/latex": [
       "$$-0.479662931871215 + e^{- \\frac{0.222222222222222 \\pi}{\\omega_d}}$$"
      ],
      "text/plain": [
       "                      -0.222222222222222⋅π \n",
       "                      ─────────────────────\n",
       "                             \\omega_d      \n",
       "-0.479662931871215 + ℯ                     "
      ]
     },
     "execution_count": 20,
     "metadata": {},
     "output_type": "execute_result"
    }
   ],
   "source": [
    "exprMp.subs({s:solsn})"
   ]
  },
  {
   "cell_type": "code",
   "execution_count": 21,
   "metadata": {
    "collapsed": false
   },
   "outputs": [],
   "source": [
    "solwd=solve(exprMp,wd)\n",
    "solwd=solwd[0]"
   ]
  },
  {
   "cell_type": "code",
   "execution_count": 22,
   "metadata": {
    "collapsed": false
   },
   "outputs": [
    {
     "name": "stdout",
     "output_type": "stream",
     "text": [
      "La frecuencia natural amortiguada del sistema es 0.950263568256059 [rad/s]\n"
     ]
    }
   ],
   "source": [
    "solwdn=solwd.subs({s:solsn})\n",
    "print 'La frecuencia natural amortiguada del sistema es',solwdn, '[rad/s]'"
   ]
  },
  {
   "cell_type": "markdown",
   "metadata": {},
   "source": [
    "Con estos valores y deduciendo de las eciaciones dadas anteriormente se obtienen los valores para $\\zeta$ y $\\omega_n$, como se hace a continuación:"
   ]
  },
  {
   "cell_type": "code",
   "execution_count": 23,
   "metadata": {
    "collapsed": false
   },
   "outputs": [
    {
     "data": {
      "text/latex": [
       "$$\\omega_n=\\sqrt{\\sigma^2+\\omega_d^2}$$"
      ],
      "text/plain": [
       "<IPython.core.display.Math object>"
      ]
     },
     "metadata": {},
     "output_type": "display_data"
    }
   ],
   "source": [
    "display(Math(r'\\omega_n=\\sqrt{\\sigma^2+\\omega_d^2}'))"
   ]
  },
  {
   "cell_type": "code",
   "execution_count": 24,
   "metadata": {
    "collapsed": false
   },
   "outputs": [
    {
     "name": "stdout",
     "output_type": "stream",
     "text": [
      "La frecuencia natural del sistema es 0.975901411621133 [rad/s]\n"
     ]
    }
   ],
   "source": [
    "solwnn=(sqrt(solsn**2+solwdn**2))\n",
    "print 'La frecuencia natural del sistema es',solwnn, '[rad/s]'"
   ]
  },
  {
   "cell_type": "code",
   "execution_count": 25,
   "metadata": {
    "collapsed": false
   },
   "outputs": [
    {
     "data": {
      "text/latex": [
       "$$\\zeta=\\frac{\\sigma}{\\omega_n}$$"
      ],
      "text/plain": [
       "<IPython.core.display.Math object>"
      ]
     },
     "metadata": {},
     "output_type": "display_data"
    }
   ],
   "source": [
    "display(Math(r'\\zeta=\\frac{\\sigma}{\\omega_n}'))"
   ]
  },
  {
   "cell_type": "code",
   "execution_count": 26,
   "metadata": {
    "collapsed": false
   },
   "outputs": [
    {
     "name": "stdout",
     "output_type": "stream",
     "text": [
      "El coeficiente de amortiguamiento del sistema es 0.227709704664813\n"
     ]
    }
   ],
   "source": [
    "solzn=solsn/solwnn\n",
    "print 'El coeficiente de amortiguamiento del sistema es',solzn"
   ]
  },
  {
   "cell_type": "code",
   "execution_count": 27,
   "metadata": {
    "collapsed": false
   },
   "outputs": [
    {
     "name": "stdout",
     "output_type": "stream",
     "text": [
      "El angulo de desfase del sistema es 1.34107138019242 [rad]\n"
     ]
    }
   ],
   "source": [
    "solttn=atan2(sqrt(1-solzn**2),solzn)\n",
    "print 'El angulo de desfase del sistema es',solttn, '[rad]'"
   ]
  },
  {
   "cell_type": "code",
   "execution_count": null,
   "metadata": {
    "collapsed": true
   },
   "outputs": [],
   "source": []
  },
  {
   "cell_type": "markdown",
   "metadata": {},
   "source": [
    "Con estos valores se puede escribir la solución al sistema planteado en el espacio de la frecuendia compleja S como se ve a continuación."
   ]
  },
  {
   "cell_type": "code",
   "execution_count": 79,
   "metadata": {
    "collapsed": false
   },
   "outputs": [
    {
     "data": {
      "image/png": "[encoded data removed]",
      "text/latex": [
       "$$\\frac{0.95238356520412 k}{S^{2} + 0.444444444444444 S + 0.95238356520412}$$"
      ],
      "text/plain": [
       "             0.95238356520412⋅k            \n",
       "───────────────────────────────────────────\n",
       " 2                                         \n",
       "S  + 0.444444444444444⋅S + 0.95238356520412"
      ]
     },
     "execution_count": 79,
     "metadata": {},
     "output_type": "execute_result"
    }
   ],
   "source": [
    "G=solwnn**2*k/(S**2+2*solzn*solwnn*S+solwnn**2)\n",
    "G"
   ]
  },
  {
   "cell_type": "markdown",
   "metadata": {},
   "source": [
    "Y la solucion del sistema en el tiempo se ve de la siguiente manera"
   ]
  },
  {
   "cell_type": "code",
   "execution_count": 82,
   "metadata": {
    "collapsed": false
   },
   "outputs": [
    {
     "data": {
      "image/png": "[encoded data removed]",
      "text/latex": [
       "$$k \\left(1 - 1.02697971828187 e^{- 0.222222222222222 t} \\sin{\\left (0.950263568256059 t + 1.34107138019242 \\right )}\\right)$$"
      ],
      "text/plain": [
       "  ⎛                      -0.222222222222222⋅t                                 \n",
       "k⋅⎝1 - 1.02697971828187⋅ℯ                    ⋅sin(0.950263568256059⋅t + 1.3410\n",
       "\n",
       "           ⎞\n",
       "7138019242)⎠"
      ]
     },
     "execution_count": 82,
     "metadata": {},
     "output_type": "execute_result"
    }
   ],
   "source": [
    "y=1-1/(sqrt(1-solzn**2))*e**(-solzn*solwnn*t)*sin(solwnn*sqrt(1-solzn**2)*t+solttn)\n",
    "y*k"
   ]
  },
  {
   "cell_type": "code",
   "execution_count": 86,
   "metadata": {
    "collapsed": false
   },
   "outputs": [],
   "source": [
    "y1=listofzeros = [0] * 500\n",
    "kn=d.Amplitud[20]"
   ]
  },
  {
   "cell_type": "code",
   "execution_count": 87,
   "metadata": {
    "collapsed": false
   },
   "outputs": [],
   "source": [
    "t1=[x * 0.1 for x in range(0, 500)]"
   ]
  },
  {
   "cell_type": "code",
   "execution_count": 88,
   "metadata": {
    "collapsed": false
   },
   "outputs": [],
   "source": [
    "p=0\n",
    "for c in t1:\n",
    "    y1[p]=y.subs({t:c})*kn\n",
    "    p +=1"
   ]
  },
  {
   "cell_type": "code",
   "execution_count": null,
   "metadata": {
    "collapsed": false
   },
   "outputs": [],
   "source": []
  },
  {
   "cell_type": "code",
   "execution_count": 89,
   "metadata": {
    "collapsed": false
   },
   "outputs": [
    {
     "data": {
      "text/plain": [
       "[<matplotlib.lines.Line2D at 0x7f0a29ad7550>]"
      ]
     },
     "execution_count": 89,
     "metadata": {},
     "output_type": "execute_result"
    },
    {
     "data": {
      "image/png": "[encoded data removed]",
      "text/plain": [
       "<matplotlib.figure.Figure at 0x7f0a29be1350>"
      ]
     },
     "metadata": {},
     "output_type": "display_data"
    }
   ],
   "source": [
    "plt.plot(t1,y1)"
   ]
  },
  {
   "cell_type": "markdown",
   "metadata": {
    "collapsed": false
   },
   "source": [
    "Para comparar la señal obtenida con la dibujada por los datos extraidos del sistema, se hacen las dos gráficas en el mismo apartado"
   ]
  },
  {
   "cell_type": "code",
   "execution_count": 90,
   "metadata": {
    "collapsed": false
   },
   "outputs": [
    {
     "data": {
      "text/plain": [
       "[<matplotlib.lines.Line2D at 0x7f0a299fd3d0>]"
      ]
     },
     "execution_count": 90,
     "metadata": {},
     "output_type": "execute_result"
    },
    {
     "data": {
      "image/png": "[encoded data removed]",
      "text/plain": [
       "<matplotlib.figure.Figure at 0x7f0a2ba55310>"
      ]
     },
     "metadata": {},
     "output_type": "display_data"
    }
   ],
   "source": [
    "plt.figure(figsize=(15,5))\n",
    "plt.ion()\n",
    "plt.subplot(1,2,1)\n",
    "plt.title('Grafica de datos del sistema')\n",
    "plt.xlabel(\"Tiempo [s]\")                     # Establece el título del eje x\n",
    "plt.ylabel(\"Amplitud\")                       # Establece el título del eje y\n",
    "plt.plot(d['Tiempo'], d[\"Amplitud\"],'k')\n",
    "plt.subplot(1,2,2)\n",
    "plt.title('Grafica de la Ecuacion')\n",
    "plt.xlabel(\"Tiempo [s]\")                     # Establece el título del eje x\n",
    "plt.ylabel(\"Amplitud\")                       # Establece el título del eje y\n",
    "plt.plot(t1, y1)"
   ]
  },
  {
   "cell_type": "markdown",
   "metadata": {},
   "source": [
    "Como vemos en las graficas, las dos tienen bastante parecido y por tanto, a partir de la ecuacion encontrada se puede generar la animación."
   ]
  },
  {
   "cell_type": "markdown",
   "metadata": {},
   "source": [
    "## 3. Animación"
   ]
  },
  {
   "cell_type": "code",
   "execution_count": null,
   "metadata": {
    "collapsed": false
   },
   "outputs": [],
   "source": []
  }
 ],
 "metadata": {
  "kernelspec": {
   "display_name": "Python 2",
   "language": "python",
   "name": "python2"
  },
  "language_info": {
   "codemirror_mode": {
    "name": "ipython",
    "version": 2
   },
   "file_extension": ".py",
   "mimetype": "text/x-python",
   "name": "python",
   "nbconvert_exporter": "python",
   "pygments_lexer": "ipython2",
   "version": "2.7.11"
  }
 },
 "nbformat": 4,
 "nbformat_minor": 0
}
